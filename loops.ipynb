{
 "cells": [
  {
   "cell_type": "code",
   "execution_count": 2,
   "metadata": {},
   "outputs": [
    {
     "name": "stdout",
     "output_type": "stream",
     "text": [
      "12 56 23 56 78 21 "
     ]
    }
   ],
   "source": [
    "k=[12,56,23,56,78,21]\n",
    "for i in k:\n",
    "    print(i,end=\" \")"
   ]
  },
  {
   "cell_type": "code",
   "execution_count": 2,
   "metadata": {},
   "outputs": [],
   "source": [
    "item =['pen','pencil','book']\n",
    "prices=[10.00,2.00,199.00]\n",
    "qty=[20,50,10]"
   ]
  },
  {
   "cell_type": "code",
   "execution_count": 7,
   "metadata": {},
   "outputs": [
    {
     "name": "stdout",
     "output_type": "stream",
     "text": [
      "pen         10.0    20\n",
      "pencil       2.0    50\n",
      "book       199.0    10\n"
     ]
    }
   ],
   "source": [
    "for i,p,q in zip (item,prices,qty):\n",
    "    print(f'{i:10} {p:5} {q:5}' )"
   ]
  },
  {
   "cell_type": "code",
   "execution_count": 8,
   "metadata": {},
   "outputs": [
    {
     "name": "stdout",
     "output_type": "stream",
     "text": [
      "5\n",
      "1234\n"
     ]
    }
   ],
   "source": [
    "n=12345\n",
    "print(n%10)#unit place value\n",
    "print(n//10)# remining digits"
   ]
  },
  {
   "cell_type": "code",
   "execution_count": 9,
   "metadata": {},
   "outputs": [
    {
     "name": "stdout",
     "output_type": "stream",
     "text": [
      "Try Again>>>\n",
      "Welcome Master!\n"
     ]
    }
   ],
   "source": [
    "retries=0\n",
    "while retries<3:\n",
    "    pin=input(\"PIN : \")\n",
    "    if pin =='1234':\n",
    "        print(\"Welcome Master!\")\n",
    "        break\n",
    "    else:\n",
    "        print(\"Try Again>>>\")\n",
    "        retries+=1\n",
    "\n"
   ]
  }
 ],
 "metadata": {
  "kernelspec": {
   "display_name": "Python 3",
   "language": "python",
   "name": "python3"
  },
  "language_info": {
   "codemirror_mode": {
    "name": "ipython",
    "version": 3
   },
   "file_extension": ".py",
   "mimetype": "text/x-python",
   "name": "python",
   "nbconvert_exporter": "python",
   "pygments_lexer": "ipython3",
   "version": "3.10.7"
  },
  "orig_nbformat": 4,
  "vscode": {
   "interpreter": {
    "hash": "d2b4e89fcae5b91aa8ea29bb1c9dcc5e94352bc4a29da12e91d68cb992a2a532"
   }
  }
 },
 "nbformat": 4,
 "nbformat_minor": 2
}
