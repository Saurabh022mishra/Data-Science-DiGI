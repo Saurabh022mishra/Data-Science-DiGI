{
 "cells": [
  {
   "cell_type": "code",
   "execution_count": 1,
   "metadata": {},
   "outputs": [
    {
     "name": "stdout",
     "output_type": "stream",
     "text": [
      "EVEN\n"
     ]
    }
   ],
   "source": [
    "x = int(input(\"enter a number : \"))\n",
    "if x % 2 == 0:\n",
    "    print(\"EVEN\")\n",
    "else:\n",
    "    print(\"ODD\")\n"
   ]
  },
  {
   "cell_type": "code",
   "execution_count": 2,
   "metadata": {},
   "outputs": [
    {
     "name": "stdout",
     "output_type": "stream",
     "text": [
      "Gooc Job\n"
     ]
    }
   ],
   "source": [
    "x = input(\"Enter a random number : \")\n",
    "if x.isnumeric():\n",
    "    print(\"Gooc Job\")\n",
    "else:\n",
    "    print(\"Sad Life\")\n"
   ]
  },
  {
   "cell_type": "code",
   "execution_count": 3,
   "metadata": {},
   "outputs": [
    {
     "name": "stdout",
     "output_type": "stream",
     "text": [
      "pleasr wait 2 years\n"
     ]
    }
   ],
   "source": [
    "age = int(input(\"Enter Your Age : \"))\n",
    "if age >= 18:\n",
    "    print(\"You have right to vote : \")\n",
    "else:\n",
    "    print(f\"pleasr wait {18-age} years\")\n"
   ]
  },
  {
   "cell_type": "code",
   "execution_count": 4,
   "metadata": {},
   "outputs": [
    {
     "name": "stdout",
     "output_type": "stream",
     "text": [
      "we have 38 kg mango in store\n"
     ]
    }
   ],
   "source": [
    "x=38\n",
    "y=\"mango\"\n",
    "print(f\"we have {x} kg {y} in store\")"
   ]
  },
  {
   "cell_type": "code",
   "execution_count": 1,
   "metadata": {},
   "outputs": [
    {
     "name": "stdout",
     "output_type": "stream",
     "text": [
      "x=14 is natural number\n",
      "x=14 is even number\n"
     ]
    }
   ],
   "source": [
    "x= int (input(\"Enter a number :\"))\n",
    "if x>0:\n",
    "    print(f\"{x=} is natural number\")\n",
    "if x%2==0:\n",
    "    print(f\"{x=} is even number\")\n",
    "if x>50:\n",
    "    print(f\"{x=} is grater than 50\")"
   ]
  },
  {
   "attachments": {},
   "cell_type": "markdown",
   "metadata": {},
   "source": [
    "##### Wap to calculate total salary on the basis of following rules\n",
    "-> if designation is manager , basic salary is 50000\n",
    "\n",
    "-> if designation is developer , basic salary is 40000\n",
    "\n",
    "-> if designation is tester , basic salary is 30000\n",
    "\n",
    "-> 10% of basic salary is   given as bonus to manager\n",
    "\n",
    "-> 20% of basic salary is   given as bonus to Developer\n",
    "\n",
    "-> 30% of basic salary is   given as bonus to tester \n",
    "\n",
    "-> 20% hra given on basic salary\n"
   ]
  },
  {
   "cell_type": "code",
   "execution_count": 2,
   "metadata": {},
   "outputs": [
    {
     "name": "stdout",
     "output_type": "stream",
     "text": [
      "56000.0\n"
     ]
    }
   ],
   "source": [
    "a= input(\"Designation : \")\n",
    "if (a== \"Manager\" or a==\"manager\"):\n",
    "    bs=50000\n",
    "    bns= bs*.1\n",
    "    hrs=bs*.2\n",
    "    print(bs+bns+hrs)\n",
    "elif(a== \"Devloper\" or a==\"devloper\"):\n",
    "    bs=40000\n",
    "    bns= bs*.2\n",
    "    hrs=bs*.2\n",
    "    print(bs+bns+hrs)\n",
    "elif(a== \"Tester\" or a==\"tester\"):\n",
    "    bs=30000\n",
    "    bns= bs*.3\n",
    "    hrs=bs*.2\n",
    "    print(bs+bns+hrs)\n",
    "    "
   ]
  }
 ],
 "metadata": {
  "kernelspec": {
   "display_name": "Python 3",
   "language": "python",
   "name": "python3"
  },
  "language_info": {
   "codemirror_mode": {
    "name": "ipython",
    "version": 3
   },
   "file_extension": ".py",
   "mimetype": "text/x-python",
   "name": "python",
   "nbconvert_exporter": "python",
   "pygments_lexer": "ipython3",
   "version": "3.10.7"
  },
  "orig_nbformat": 4,
  "vscode": {
   "interpreter": {
    "hash": "d2b4e89fcae5b91aa8ea29bb1c9dcc5e94352bc4a29da12e91d68cb992a2a532"
   }
  }
 },
 "nbformat": 4,
 "nbformat_minor": 2
}
