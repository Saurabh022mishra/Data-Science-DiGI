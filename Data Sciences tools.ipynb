{
 "cells": [
  {
   "cell_type": "markdown",
   "id": "c02ebdc6",
   "metadata": {},
   "source": [
    "# Data Sciences Tools"
   ]
  },
  {
   "cell_type": "markdown",
   "id": "a1d1e4dc",
   "metadata": {},
   "source": [
    "In this notebook,Data Science Tools and Ecosystem are summarizerd"
   ]
  },
  {
   "cell_type": "markdown",
   "id": "0eb6c1ca",
   "metadata": {},
   "source": [
    "Data Sciences Languages are:\n",
    " 1. python\n",
    " 2. R\n",
    " 3. SQL\n",
    " 4. Scala\n",
    " 5. JAVA\n",
    " 6. C++\n",
    " 7. Julia\n",
    " 8. Javascript\n",
    " 9. GO"
   ]
  },
  {
   "cell_type": "markdown",
   "id": "307b2433",
   "metadata": {},
   "source": [
    "Data Sciences libraries  are:\n",
    " 1. Pandas\n",
    " 2. Numpy\n",
    " 3. Big DL\n",
    " 4. Scikit-learn\n",
    " 5. Pytorch\n",
    " 6. TensorFlow"
   ]
  },
  {
   "cell_type": "markdown",
   "id": "4db5f058",
   "metadata": {},
   "source": [
    "Data Science Tools:\n",
    "1. Anaconda\n",
    "2. Jupyter Notebook\n",
    "3. R Studio\n",
    "4. Spyder\n",
    "5. Zeppelin\n"
   ]
  },
  {
   "cell_type": "markdown",
   "id": "c44ebc7a",
   "metadata": {},
   "source": [
    "### Here are few example evaluating arithmatic expression in python"
   ]
  },
  {
   "cell_type": "code",
   "execution_count": 1,
   "id": "5e615552",
   "metadata": {},
   "outputs": [
    {
     "data": {
      "text/plain": [
       "17"
      ]
     },
     "execution_count": 1,
     "metadata": {},
     "output_type": "execute_result"
    }
   ],
   "source": [
    "# this is a simple multiply expression \n",
    "(3*4)+5"
   ]
  },
  {
   "cell_type": "code",
   "execution_count": 9,
   "id": "d84c945d",
   "metadata": {},
   "outputs": [
    {
     "data": {
      "text/plain": [
       "3"
      ]
     },
     "execution_count": 9,
     "metadata": {},
     "output_type": "execute_result"
    }
   ],
   "source": [
    "200//60"
   ]
  },
  {
   "cell_type": "markdown",
   "id": "80b49d17",
   "metadata": {},
   "source": [
    "## Objective \n",
    " \n",
    " * Add comments to code cells\n",
    " * Create markdown cells\n",
    " * Add ordered and unordered list to markdown cell\n",
    " * Format content of markdown cells with heading styles"
   ]
  },
  {
   "cell_type": "markdown",
   "id": "98d22363",
   "metadata": {},
   "source": [
    "# Author's \n",
    "## Lakshmi \n",
    "## Shivam"
   ]
  },
  {
   "cell_type": "code",
   "execution_count": null,
   "id": "31b66f08",
   "metadata": {},
   "outputs": [],
   "source": []
  }
 ],
 "metadata": {
  "kernelspec": {
   "display_name": "Python 3 (ipykernel)",
   "language": "python",
   "name": "python3"
  },
  "language_info": {
   "codemirror_mode": {
    "name": "ipython",
    "version": 3
   },
   "file_extension": ".py",
   "mimetype": "text/x-python",
   "name": "python",
   "nbconvert_exporter": "python",
   "pygments_lexer": "ipython3",
   "version": "3.9.12"
  }
 },
 "nbformat": 4,
 "nbformat_minor": 5
}
