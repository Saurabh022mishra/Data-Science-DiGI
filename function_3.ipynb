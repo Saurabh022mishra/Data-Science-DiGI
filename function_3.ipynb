{
 "cells": [
  {
   "attachments": {},
   "cell_type": "markdown",
   "metadata": {},
   "source": [
    "f(x)=x+3\n",
    "g(x,y)=x**2+y+3\n",
    ">Lamda expressions\n",
    ">,map\n",
    ">,filter"
   ]
  },
  {
   "cell_type": "code",
   "execution_count": 2,
   "metadata": {},
   "outputs": [],
   "source": [
    "f=lambda x:x+3"
   ]
  },
  {
   "cell_type": "code",
   "execution_count": 3,
   "metadata": {},
   "outputs": [
    {
     "name": "stdout",
     "output_type": "stream",
     "text": [
      "6 7\n"
     ]
    }
   ],
   "source": [
    "print(f(3),f(4))"
   ]
  },
  {
   "cell_type": "code",
   "execution_count": 5,
   "metadata": {},
   "outputs": [
    {
     "name": "stdout",
     "output_type": "stream",
     "text": [
      "8 17\n"
     ]
    }
   ],
   "source": [
    "g=lambda x,y: x**2 +y +3\n",
    "print( g(2,1),g(3,5))"
   ]
  },
  {
   "cell_type": "code",
   "execution_count": 6,
   "metadata": {},
   "outputs": [
    {
     "name": "stdout",
     "output_type": "stream",
     "text": [
      "[15, 59, 84, 18, 2, 94, 51, 18, 118]\n"
     ]
    }
   ],
   "source": [
    "x=[20,64,89,23,7,99,56,23,123]\n",
    "# For Begginers\n",
    "y=[]#blank list\n",
    "for i in x:\n",
    "    y.append(i-5)\n",
    "print (y)"
   ]
  },
  {
   "attachments": {},
   "cell_type": "markdown",
   "metadata": {},
   "source": [
    "###MAP"
   ]
  },
  {
   "cell_type": "code",
   "execution_count": 11,
   "metadata": {},
   "outputs": [
    {
     "data": {
      "text/plain": [
       "[15, 59, 84, 18, 2, 94, 51, 18, 118]"
      ]
     },
     "execution_count": 11,
     "metadata": {},
     "output_type": "execute_result"
    }
   ],
   "source": [
    "list(map(lambda n: n-5,x))"
   ]
  },
  {
   "cell_type": "code",
   "execution_count": 14,
   "metadata": {},
   "outputs": [
    {
     "data": {
      "text/plain": [
       "[46.57252408878007,\n",
       " 22.80350850198276,\n",
       " 84.69356528095862,\n",
       " 55.60575509783138,\n",
       " 53.23532661682466,\n",
       " 56.22277118748239,\n",
       " 634.0386423554955,\n",
       " 66.27216610312357,\n",
       " 424.1851011056376,\n",
       " 876.8238135452299]"
      ]
     },
     "execution_count": 14,
     "metadata": {},
     "output_type": "execute_result"
    }
   ],
   "source": [
    "a=[45,6,78,34,53,56,7,6,43,678]\n",
    "b=[12,22,33,44,5,5,634,66,422,556]\n",
    "h=list(map(lambda a,b:(a**2+b**2)**.5,a,b))\n",
    "h"
   ]
  },
  {
   "cell_type": "code",
   "execution_count": 18,
   "metadata": {},
   "outputs": [
    {
     "data": {
      "text/plain": [
       "[1, 4, 9, 16, 25, 36, 49]"
      ]
     },
     "execution_count": 18,
     "metadata": {},
     "output_type": "execute_result"
    }
   ],
   "source": [
    "# create a list of squares from a list of numbers \n",
    "a={1,2,3,4,5,6,7}\n",
    "h=list(map(lambda c:c*c,a))\n",
    "h"
   ]
  },
  {
   "cell_type": "code",
   "execution_count": 19,
   "metadata": {},
   "outputs": [
    {
     "data": {
      "text/plain": [
       "[3, 4, 5, 6, 7, 8, 9, 5]"
      ]
     },
     "execution_count": 19,
     "metadata": {},
     "output_type": "execute_result"
    }
   ],
   "source": [
    "a=[2,3,4,5,6,7,8,9,1,5,]\n",
    "b=list(filter(lambda x:x>=3,a))\n",
    "b"
   ]
  },
  {
   "cell_type": "code",
   "execution_count": 20,
   "metadata": {},
   "outputs": [
    {
     "data": {
      "text/plain": [
       "[9, 16, 25, 36, 49, 64, 81, 25]"
      ]
     },
     "execution_count": 20,
     "metadata": {},
     "output_type": "execute_result"
    }
   ],
   "source": [
    "# squares of all values grater than equal to 3\n",
    "list(map(lambda x:x*x,filter(lambda x:x>=3,a)))"
   ]
  },
  {
   "cell_type": "code",
   "execution_count": null,
   "metadata": {},
   "outputs": [],
   "source": []
  }
 ],
 "metadata": {
  "kernelspec": {
   "display_name": "Python 3",
   "language": "python",
   "name": "python3"
  },
  "language_info": {
   "codemirror_mode": {
    "name": "ipython",
    "version": 3
   },
   "file_extension": ".py",
   "mimetype": "text/x-python",
   "name": "python",
   "nbconvert_exporter": "python",
   "pygments_lexer": "ipython3",
   "version": "3.10.7"
  },
  "orig_nbformat": 4,
  "vscode": {
   "interpreter": {
    "hash": "d2b4e89fcae5b91aa8ea29bb1c9dcc5e94352bc4a29da12e91d68cb992a2a532"
   }
  }
 },
 "nbformat": 4,
 "nbformat_minor": 2
}
