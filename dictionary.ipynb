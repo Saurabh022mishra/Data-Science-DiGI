{
 "cells": [
  {
   "attachments": {},
   "cell_type": "markdown",
   "metadata": {},
   "source": [
    "dictionary\n",
    "- ordered\n",
    "-mutable\n",
    "-unindexed\n",
    "-key:value pairs\n",
    "-keys are unique\n",
    "-keys are immutable\n",
    "- values can be duplicated\n",
    "-values can be mutable\n",
    "-represented by{}\n",
    "-can be nested\n",
    "- dict() can be used to create a dictionary"
   ]
  },
  {
   "cell_type": "code",
   "execution_count": 1,
   "metadata": {},
   "outputs": [],
   "source": [
    "book = {\n",
    "    'title':'the lost metal',\n",
    "    'author':'Brandon Sanderson',\n",
    "    'pages':899,\n",
    "    'price':'$19.99',\n",
    "    'publisher':'Tor Books',\n",
    "    'type':'hardcover',\n",
    "    'genre':'fantasy',\n",
    "}"
   ]
  },
  {
   "cell_type": "code",
   "execution_count": 2,
   "metadata": {},
   "outputs": [
    {
     "data": {
      "text/plain": [
       "'the lost metal'"
      ]
     },
     "execution_count": 2,
     "metadata": {},
     "output_type": "execute_result"
    }
   ],
   "source": [
    "book['title']"
   ]
  },
  {
   "cell_type": "code",
   "execution_count": 3,
   "metadata": {},
   "outputs": [
    {
     "data": {
      "text/plain": [
       "'Tor Books'"
      ]
     },
     "execution_count": 3,
     "metadata": {},
     "output_type": "execute_result"
    }
   ],
   "source": [
    "key = 'publisher'\n",
    "book[key]"
   ]
  },
  {
   "cell_type": "code",
   "execution_count": 4,
   "metadata": {},
   "outputs": [],
   "source": [
    "book['price'] = '$21.49'"
   ]
  },
  {
   "cell_type": "code",
   "execution_count": 5,
   "metadata": {},
   "outputs": [
    {
     "data": {
      "text/plain": [
       "{'title': 'the lost metal',\n",
       " 'author': 'Brandon Sanderson',\n",
       " 'pages': 899,\n",
       " 'price': '$21.49',\n",
       " 'publisher': 'Tor Books',\n",
       " 'type': 'hardcover',\n",
       " 'genre': 'fantasy'}"
      ]
     },
     "execution_count": 5,
     "metadata": {},
     "output_type": "execute_result"
    }
   ],
   "source": [
    "book"
   ]
  },
  {
   "cell_type": "code",
   "execution_count": 6,
   "metadata": {},
   "outputs": [],
   "source": [
    "book['rating'] = 4.9"
   ]
  },
  {
   "cell_type": "code",
   "execution_count": 7,
   "metadata": {},
   "outputs": [
    {
     "data": {
      "text/plain": [
       "{'title': 'the lost metal',\n",
       " 'author': 'Brandon Sanderson',\n",
       " 'pages': 899,\n",
       " 'price': '$21.49',\n",
       " 'publisher': 'Tor Books',\n",
       " 'type': 'hardcover',\n",
       " 'genre': 'fantasy',\n",
       " 'rating': 4.9}"
      ]
     },
     "execution_count": 7,
     "metadata": {},
     "output_type": "execute_result"
    }
   ],
   "source": [
    "book"
   ]
  },
  {
   "cell_type": "code",
   "execution_count": 8,
   "metadata": {},
   "outputs": [
    {
     "data": {
      "text/plain": [
       "['title', 'author', 'pages', 'price', 'publisher', 'type', 'genre', 'rating']"
      ]
     },
     "execution_count": 8,
     "metadata": {},
     "output_type": "execute_result"
    }
   ],
   "source": [
    "list(book.keys())"
   ]
  },
  {
   "cell_type": "code",
   "execution_count": 9,
   "metadata": {},
   "outputs": [
    {
     "data": {
      "text/plain": [
       "['the lost metal',\n",
       " 'Brandon Sanderson',\n",
       " 899,\n",
       " '$21.49',\n",
       " 'Tor Books',\n",
       " 'hardcover',\n",
       " 'fantasy',\n",
       " 4.9]"
      ]
     },
     "execution_count": 9,
     "metadata": {},
     "output_type": "execute_result"
    }
   ],
   "source": [
    "list(book.values())"
   ]
  },
  {
   "cell_type": "code",
   "execution_count": 10,
   "metadata": {},
   "outputs": [
    {
     "data": {
      "text/plain": [
       "[('title', 'the lost metal'),\n",
       " ('author', 'Brandon Sanderson'),\n",
       " ('pages', 899),\n",
       " ('price', '$21.49'),\n",
       " ('publisher', 'Tor Books'),\n",
       " ('type', 'hardcover'),\n",
       " ('genre', 'fantasy'),\n",
       " ('rating', 4.9)]"
      ]
     },
     "execution_count": 10,
     "metadata": {},
     "output_type": "execute_result"
    }
   ],
   "source": [
    "list(book.items())"
   ]
  },
  {
   "cell_type": "code",
   "execution_count": 11,
   "metadata": {},
   "outputs": [
    {
     "name": "stdout",
     "output_type": "stream",
     "text": [
      "title\n",
      "author\n",
      "pages\n",
      "price\n",
      "publisher\n",
      "type\n",
      "genre\n",
      "rating\n"
     ]
    }
   ],
   "source": [
    "# normal loop\n",
    "for i in book:\n",
    "    print(i)"
   ]
  },
  {
   "cell_type": "code",
   "execution_count": 12,
   "metadata": {},
   "outputs": [
    {
     "name": "stdout",
     "output_type": "stream",
     "text": [
      "title the lost metal\n",
      "author Brandon Sanderson\n",
      "pages 899\n",
      "price $21.49\n",
      "publisher Tor Books\n",
      "type hardcover\n",
      "genre fantasy\n",
      "rating 4.9\n"
     ]
    }
   ],
   "source": [
    "# loop to get both keys and values\n",
    "for i in book:\n",
    "    print(i,book[i])"
   ]
  },
  {
   "cell_type": "code",
   "execution_count": 13,
   "metadata": {},
   "outputs": [
    {
     "name": "stdout",
     "output_type": "stream",
     "text": [
      "title the lost metal\n",
      "author Brandon Sanderson\n",
      "pages 899\n",
      "price $21.49\n",
      "publisher Tor Books\n",
      "type hardcover\n",
      "genre fantasy\n",
      "rating 4.9\n"
     ]
    }
   ],
   "source": [
    "for k,v in book.items():\n",
    "    print(k,v)"
   ]
  },
  {
   "cell_type": "code",
   "execution_count": 14,
   "metadata": {},
   "outputs": [
    {
     "name": "stdout",
     "output_type": "stream",
     "text": [
      "{'name': 'Saurabh', 'email': 'Saurabh@gmail.com', 'dob': '15.07.2001', 'password': 'Saurabh'}\n"
     ]
    }
   ],
   "source": [
    "# input from users\n",
    "userdata = {}\n",
    "userdata['name'] = input(\"Enter your name: \")\n",
    "userdata['email'] = input(\"Enter your email: \")\n",
    "userdata['dob'] = input(\"Enter your D.O.B: \")\n",
    "userdata['password'] = input(\"Enter your password: \")\n",
    "print(userdata)\n",
    "\n"
   ]
  },
  {
   "cell_type": "code",
   "execution_count": 15,
   "metadata": {},
   "outputs": [],
   "source": [
    "# nested dictionary\n",
    "report = {\n",
    "    'supriya':{\n",
    "    'english':87,\n",
    "    'hindi':89,\n",
    "    'maths':82,\n",
    "    },\n",
    "    'pillu':{\n",
    "    'english': 90,\n",
    "    'hindi':87,\n",
    "    'maths':90\n",
    "    }\n",
    "\n",
    "\n",
    "}"
   ]
  },
  {
   "cell_type": "code",
   "execution_count": 16,
   "metadata": {},
   "outputs": [
    {
     "data": {
      "text/plain": [
       "{'english': 90, 'hindi': 87, 'maths': 90}"
      ]
     },
     "execution_count": 16,
     "metadata": {},
     "output_type": "execute_result"
    }
   ],
   "source": [
    "report['pillu']"
   ]
  },
  {
   "cell_type": "code",
   "execution_count": 17,
   "metadata": {},
   "outputs": [
    {
     "data": {
      "text/plain": [
       "82"
      ]
     },
     "execution_count": 17,
     "metadata": {},
     "output_type": "execute_result"
    }
   ],
   "source": [
    "report['supriya']['maths']"
   ]
  },
  {
   "cell_type": "code",
   "execution_count": 18,
   "metadata": {},
   "outputs": [
    {
     "name": "stdout",
     "output_type": "stream",
     "text": [
      "supriya -> english 87\n",
      "supriya -> hindi 89\n",
      "supriya -> maths 82\n",
      "pillu -> english 90\n",
      "pillu -> hindi 87\n",
      "pillu -> maths 90\n"
     ]
    }
   ],
   "source": [
    "for k,v in report.items():\n",
    "    for k1,v1 in v.items():\n",
    "        print(k,'->',k1,v1)"
   ]
  },
  {
   "cell_type": "code",
   "execution_count": 19,
   "metadata": {},
   "outputs": [
    {
     "data": {
      "text/plain": [
       "'Brandon Sanderson'"
      ]
     },
     "execution_count": 19,
     "metadata": {},
     "output_type": "execute_result"
    }
   ],
   "source": [
    "book.pop('author')"
   ]
  },
  {
   "cell_type": "code",
   "execution_count": 20,
   "metadata": {},
   "outputs": [
    {
     "data": {
      "text/plain": [
       "{'title': 'the lost metal',\n",
       " 'pages': 899,\n",
       " 'price': '$21.49',\n",
       " 'publisher': 'Tor Books',\n",
       " 'type': 'hardcover',\n",
       " 'genre': 'fantasy',\n",
       " 'rating': 4.9}"
      ]
     },
     "execution_count": 20,
     "metadata": {},
     "output_type": "execute_result"
    }
   ],
   "source": [
    "book"
   ]
  },
  {
   "cell_type": "code",
   "execution_count": 21,
   "metadata": {},
   "outputs": [
    {
     "data": {
      "text/plain": [
       "{1: '✅✅', 2: '✅✅', 3: '✅✅', 4: '✅✅'}"
      ]
     },
     "execution_count": 21,
     "metadata": {},
     "output_type": "execute_result"
    }
   ],
   "source": [
    "a = [1,2,3,4]\n",
    "dict.fromkeys(a,'✅✅')"
   ]
  },
  {
   "cell_type": "code",
   "execution_count": 22,
   "metadata": {},
   "outputs": [],
   "source": [
    "students = ['Aman','Amar','Amandeep']\n",
    "std_dict = dict.fromkeys(students,0)"
   ]
  },
  {
   "cell_type": "code",
   "execution_count": 23,
   "metadata": {},
   "outputs": [],
   "source": [
    "more_students = ['ajay','akash','ankit']\n",
    "more_std_dict = dict.fromkeys(more_students,0)"
   ]
  },
  {
   "cell_type": "code",
   "execution_count": 24,
   "metadata": {},
   "outputs": [],
   "source": [
    "std_dict.update(more_std_dict)"
   ]
  },
  {
   "cell_type": "code",
   "execution_count": 25,
   "metadata": {},
   "outputs": [
    {
     "data": {
      "text/plain": [
       "{'Aman': 0, 'Amar': 0, 'Amandeep': 0, 'ajay': 0, 'akash': 0, 'ankit': 0}"
      ]
     },
     "execution_count": 25,
     "metadata": {},
     "output_type": "execute_result"
    }
   ],
   "source": [
    "std_dict\n"
   ]
  },
  {
   "cell_type": "code",
   "execution_count": 26,
   "metadata": {},
   "outputs": [
    {
     "data": {
      "text/plain": [
       "0"
      ]
     },
     "execution_count": 26,
     "metadata": {},
     "output_type": "execute_result"
    }
   ],
   "source": [
    "std_dict.get('Aman')"
   ]
  },
  {
   "cell_type": "code",
   "execution_count": null,
   "metadata": {},
   "outputs": [],
   "source": []
  }
 ],
 "metadata": {
  "kernelspec": {
   "display_name": "Python 3",
   "language": "python",
   "name": "python3"
  },
  "language_info": {
   "codemirror_mode": {
    "name": "ipython",
    "version": 3
   },
   "file_extension": ".py",
   "mimetype": "text/x-python",
   "name": "python",
   "nbconvert_exporter": "python",
   "pygments_lexer": "ipython3",
   "version": "3.10.7"
  },
  "orig_nbformat": 4,
  "vscode": {
   "interpreter": {
    "hash": "1dff2ae9bb3d76afe605b4da110c360d30bebf06bffc0acd093f995de237438b"
   }
  }
 },
 "nbformat": 4,
 "nbformat_minor": 2
}
